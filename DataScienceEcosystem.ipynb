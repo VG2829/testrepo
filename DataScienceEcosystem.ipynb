{
 "cells": [
  {
   "cell_type": "markdown",
   "id": "b475fe00",
   "metadata": {},
   "source": [
    "# Data Science Tools and Ecosystem"
   ]
  },
  {
   "cell_type": "markdown",
   "id": "a5a57fb2",
   "metadata": {},
   "source": [
    "In this notebook, Data Science Tools and Ecosystem are summarised"
   ]
  },
  {
   "cell_type": "markdown",
   "id": "67092b0e",
   "metadata": {},
   "source": [
    "**Objectives:**"
   ]
  },
  {
   "cell_type": "markdown",
   "id": "96955985",
   "metadata": {},
   "source": [
    "* Python\n",
    "* Julia\n",
    "* R\n",
    "* SQL\n",
    "* Java"
   ]
  },
  {
   "cell_type": "markdown",
   "id": "903ed132",
   "metadata": {},
   "source": [
    "Some of the popular languages that Data Scientists use are:"
   ]
  },
  {
   "cell_type": "markdown",
   "id": "32ae4746",
   "metadata": {},
   "source": [
    "1. Python\n",
    "2. R\n",
    "3. Julia"
   ]
  },
  {
   "cell_type": "markdown",
   "id": "d772c046",
   "metadata": {},
   "source": [
    "Some of the commonly used libraries used by Data Scientists include:"
   ]
  },
  {
   "cell_type": "markdown",
   "id": "9591d6e0",
   "metadata": {},
   "source": [
    "1. NumPy\n",
    "2. Matplotlib\n",
    "3. Pandas"
   ]
  },
  {
   "cell_type": "markdown",
   "id": "85622dce",
   "metadata": {},
   "source": [
    "| Data Science Tools |\n",
    ":--------------------:\n",
    "| NumPy |\n",
    "| TensorFlow |\n",
    "| Matplotlib |"
   ]
  },
  {
   "cell_type": "markdown",
   "id": "28b15844",
   "metadata": {},
   "source": [
    "### Below are a few examples of evaluating Arithmetic expressions in Python:"
   ]
  },
  {
   "cell_type": "code",
   "execution_count": 1,
   "id": "fec60447",
   "metadata": {},
   "outputs": [
    {
     "name": "stdout",
     "output_type": "stream",
     "text": [
      "17\n"
     ]
    }
   ],
   "source": [
    "# This is a simple arithmetic epression to multiply then add integers\n",
    "x = 3\n",
    "y = 4\n",
    "z = 5\n",
    "print((x*y)+z)"
   ]
  },
  {
   "cell_type": "code",
   "execution_count": 2,
   "id": "81f7d171",
   "metadata": {},
   "outputs": [
    {
     "name": "stdout",
     "output_type": "stream",
     "text": [
      "3.3333333333333335\n"
     ]
    }
   ],
   "source": [
    "# This will convert 200 minutes to hours by dividing by 60\n",
    "x = 200\n",
    "y = 60\n",
    "print(x/y)"
   ]
  },
  {
   "cell_type": "markdown",
   "id": "bb5e0b76",
   "metadata": {},
   "source": [
    "## Author\n",
    "Sanjay"
   ]
  },
  {
   "cell_type": "code",
   "execution_count": null,
   "id": "22455528",
   "metadata": {},
   "outputs": [],
   "source": []
  }
 ],
 "metadata": {
  "kernelspec": {
   "display_name": "Python 3 (ipykernel)",
   "language": "python",
   "name": "python3"
  },
  "language_info": {
   "codemirror_mode": {
    "name": "ipython",
    "version": 3
   },
   "file_extension": ".py",
   "mimetype": "text/x-python",
   "name": "python",
   "nbconvert_exporter": "python",
   "pygments_lexer": "ipython3",
   "version": "3.7.1"
  }
 },
 "nbformat": 4,
 "nbformat_minor": 5
}
